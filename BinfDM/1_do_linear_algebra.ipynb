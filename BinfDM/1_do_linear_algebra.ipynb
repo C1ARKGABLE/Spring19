{
 "cells": [
  {
   "cell_type": "code",
   "execution_count": 2,
   "metadata": {},
   "outputs": [],
   "source": [
    "import numpy as np\n",
    "from numpy import linalg as LA"
   ]
  },
  {
   "cell_type": "code",
   "execution_count": 3,
   "metadata": {},
   "outputs": [
    {
     "name": "stdout",
     "output_type": "stream",
     "text": [
      "a = \n",
      "[1 2 3]\n",
      "b = \n",
      "[4 5 6]\n",
      "a . b = \n",
      "32\n"
     ]
    }
   ],
   "source": [
    "# dot product\n",
    "a = np.array([1, 2, 3], dtype=int)\n",
    "print(\"a = \")\n",
    "print(a)\n",
    "b = np.array([4, 5, 6], dtype=int)\n",
    "print(\"b = \")\n",
    "print(b)\n",
    "print(\"a . b = \")\n",
    "print(np.dot(a, b))"
   ]
  },
  {
   "cell_type": "code",
   "execution_count": 4,
   "metadata": {},
   "outputs": [
    {
     "name": "stdout",
     "output_type": "stream",
     "text": [
      "a = \n",
      "[1 2] \n",
      "\n",
      "Euclidean_norm = \n",
      "2.23606797749979 \n",
      "\n",
      "maximum_norm = \n",
      "2.0\n",
      "\n",
      "Manhattan_norm = \n",
      "3.0\n"
     ]
    }
   ],
   "source": [
    "# norm\n",
    "a = np.array([1, 2], dtype=int)\n",
    "print(\"a = \")\n",
    "print(a, \"\\n\")\n",
    "\n",
    "Euclidean_norm = LA.norm(a)  # default norm is Euclidean norm\n",
    "print(\"Euclidean_norm = \")\n",
    "print(Euclidean_norm, \"\\n\")\n",
    "\n",
    "maximum_norm = LA.norm(a, ord=np.inf)  # maximum norm\n",
    "print(\"maximum_norm = \")\n",
    "print(maximum_norm)\n",
    "print()\n",
    "\n",
    "Manhattan_norm = LA.norm(a, ord=1)   # 1-norm\n",
    "print(\"Manhattan_norm = \")\n",
    "print(Manhattan_norm)"
   ]
  },
  {
   "cell_type": "code",
   "execution_count": 5,
   "metadata": {},
   "outputs": [
    {
     "name": "stdout",
     "output_type": "stream",
     "text": [
      "a = \n",
      "[[1 2 3]\n",
      " [8 2 1]]\n",
      "\n",
      "b = \n",
      "[[2 5 7]\n",
      " [1 5 8]\n",
      " [3 1 2]]\n",
      "\n",
      "a * b = \n",
      "[[13 18 29]\n",
      " [21 51 74]]\n"
     ]
    }
   ],
   "source": [
    "# matrix multiplication\n",
    "a = np.array([[1, 2, 3], [8, 2, 1]], dtype=int)\n",
    "print(\"a = \")\n",
    "print(a)\n",
    "print()\n",
    "\n",
    "b = np.array([[2, 5, 7], [1, 5, 8], [3, 1, 2]], dtype=int)\n",
    "print(\"b = \")\n",
    "print(b)\n",
    "print()\n",
    "\n",
    "print(\"a * b = \")\n",
    "print(np.matmul(a, b))"
   ]
  },
  {
   "cell_type": "code",
   "execution_count": 6,
   "metadata": {},
   "outputs": [
    {
     "name": "stdout",
     "output_type": "stream",
     "text": [
      "a = \n",
      "[[2 1]\n",
      " [1 2]]\n",
      "eigenvalues = \n",
      "[3. 1.]\n",
      "eigenvectors = \n",
      "[[ 0.70710678 -0.70710678]\n",
      " [ 0.70710678  0.70710678]]\n",
      "\n",
      "b = \n",
      "[[ 3  6 -8]\n",
      " [ 0  0  6]\n",
      " [ 0  0  2]]\n",
      "eigenvalues = \n",
      "[3. 0. 2.]\n",
      "eigenvectors = \n",
      "[[ 1.         -0.89442719 -0.95346259]\n",
      " [ 0.          0.4472136   0.28603878]\n",
      " [ 0.          0.          0.09534626]]\n"
     ]
    }
   ],
   "source": [
    "# eigenvalues and eigenvectors\n",
    "a = np.array([[2, 1], [1, 2]])\n",
    "print(\"a = \")\n",
    "print(a)\n",
    "lam, p = LA.eig(a)\n",
    "print(\"eigenvalues = \")\n",
    "print(lam)\n",
    "print(\"eigenvectors = \")\n",
    "print(p)\n",
    "print()\n",
    "\n",
    "b = np.array([[3, 6, -8], [0, 0, 6], [0, 0, 2]])\n",
    "print(\"b = \")\n",
    "print(b)\n",
    "lam, p = LA.eig(b)\n",
    "print(\"eigenvalues = \")\n",
    "print(lam)\n",
    "print(\"eigenvectors = \")\n",
    "print(p)"
   ]
  },
  {
   "cell_type": "code",
   "execution_count": 7,
   "metadata": {},
   "outputs": [
    {
     "name": "stdout",
     "output_type": "stream",
     "text": [
      "c = \n",
      "[[1 1]\n",
      " [0 1]]\n",
      "eigenvalues = \n",
      "[1. 1.]\n",
      "eigenvectors = \n",
      "[[ 1.00000000e+00 -1.00000000e+00]\n",
      " [ 0.00000000e+00  2.22044605e-16]]\n",
      "\n",
      "d = \n",
      "[[1 0]\n",
      " [0 1]]\n",
      "eigenvalues = \n",
      "[1. 1.]\n",
      "eigenvectors = \n",
      "[[1. 0.]\n",
      " [0. 1.]]\n",
      "\n"
     ]
    }
   ],
   "source": [
    "# algebraic and geometric multiplicities\n",
    "c = np.array([[1, 1], [0, 1]], dtype=int)\n",
    "print(\"c = \")\n",
    "print(c)\n",
    "lam, p = LA.eig(c)\n",
    "print(\"eigenvalues = \")\n",
    "print(lam)\n",
    "print(\"eigenvectors = \")\n",
    "print(p)\n",
    "print()\n",
    "\n",
    "d = np.array([[1, 0], [0, 1]], dtype=int)\n",
    "print(\"d = \")\n",
    "print(d)\n",
    "lam, p = LA.eig(d)\n",
    "print(\"eigenvalues = \")\n",
    "print(lam)\n",
    "print(\"eigenvectors = \")\n",
    "print(p)\n",
    "print()"
   ]
  },
  {
   "cell_type": "code",
   "execution_count": 10,
   "metadata": {},
   "outputs": [
    {
     "name": "stdout",
     "output_type": "stream",
     "text": [
      "a = \n",
      "[[1 0]\n",
      " [1 3]]\n",
      "diagonal_matrix = \n",
      "[[3. 0.]\n",
      " [0. 1.]]\n",
      "eigendecomposition of a = \n",
      "[[1. 0.]\n",
      " [1. 3.]]\n",
      "\n",
      "b = \n",
      "[[ 1  2  0]\n",
      " [ 0  3  0]\n",
      " [ 2 -4  2]]\n",
      "lam = \n",
      "[2. 1. 3.]\n",
      "eigendecomposition of b = \n",
      "[[ 1.  2.  0.]\n",
      " [ 0.  3.  0.]\n",
      " [ 2. -4.  2.]]\n"
     ]
    },
    {
     "ename": "AttributeError",
     "evalue": "module 'numpy.linalg' has no attribute 'inverse'",
     "output_type": "error",
     "traceback": [
      "\u001b[0;31m---------------------------------------------------------------------------\u001b[0m",
      "\u001b[0;31mAttributeError\u001b[0m                            Traceback (most recent call last)",
      "\u001b[0;32m<ipython-input-10-b404ce8eb34e>\u001b[0m in \u001b[0;36m<module>\u001b[0;34m\u001b[0m\n\u001b[1;32m     23\u001b[0m \u001b[0;34m\u001b[0m\u001b[0m\n\u001b[1;32m     24\u001b[0m \u001b[0marr\u001b[0m \u001b[0;34m=\u001b[0m \u001b[0mnp\u001b[0m\u001b[0;34m.\u001b[0m\u001b[0marray\u001b[0m\u001b[0;34m(\u001b[0m\u001b[0;34m[\u001b[0m\u001b[0;34m[\u001b[0m\u001b[0;34m-\u001b[0m\u001b[0;36m2\u001b[0m\u001b[0;34m,\u001b[0m\u001b[0;36m0\u001b[0m\u001b[0;34m]\u001b[0m\u001b[0;34m,\u001b[0m\u001b[0;34m[\u001b[0m\u001b[0;36m1\u001b[0m\u001b[0;34m,\u001b[0m\u001b[0;36m1\u001b[0m\u001b[0;34m]\u001b[0m\u001b[0;34m]\u001b[0m\u001b[0;34m)\u001b[0m\u001b[0;34m\u001b[0m\u001b[0;34m\u001b[0m\u001b[0m\n\u001b[0;32m---> 25\u001b[0;31m \u001b[0mprint\u001b[0m\u001b[0;34m(\u001b[0m\u001b[0mLA\u001b[0m\u001b[0;34m.\u001b[0m\u001b[0minverse\u001b[0m\u001b[0;34m(\u001b[0m\u001b[0marr\u001b[0m\u001b[0;34m)\u001b[0m\u001b[0;34m)\u001b[0m\u001b[0;34m\u001b[0m\u001b[0;34m\u001b[0m\u001b[0m\n\u001b[0m",
      "\u001b[0;31mAttributeError\u001b[0m: module 'numpy.linalg' has no attribute 'inverse'"
     ]
    }
   ],
   "source": [
    "# eigendecomposition of a matrix\n",
    "a = np.array([[1, 0], [1, 3]])\n",
    "lam, p = LA.eig(a)\n",
    "print(\"a = \")\n",
    "print(a)\n",
    "\n",
    "diagonal_matrix = np.diag(lam)\n",
    "print(\"diagonal_matrix = \")\n",
    "print(diagonal_matrix)\n",
    "print(\"eigendecomposition of a = \")\n",
    "print(np.matmul(np.matmul(p, diagonal_matrix), LA.inv(p)))\n",
    "print()\n",
    "\n",
    "b = np.array([[1, 2, 0], [0, 3, 0], [2, -4, 2]])\n",
    "print(\"b = \")\n",
    "print(b)\n",
    "lam, p = LA.eig(b)\n",
    "print(\"lam = \")\n",
    "print(lam)\n",
    "print(\"eigendecomposition of b = \")\n",
    "print(np.matmul(np.matmul(p, np.diag(lam)), LA.inv(p)))\n",
    "\n",
    "\n",
    "arr = np.array([[-2,0],[1,1]])\n",
    "print(LA.inverse(arr))"
   ]
  },
  {
   "cell_type": "code",
   "execution_count": null,
   "metadata": {},
   "outputs": [],
   "source": []
  }
 ],
 "metadata": {
  "kernelspec": {
   "display_name": "Python 3",
   "language": "python",
   "name": "python3"
  },
  "language_info": {
   "codemirror_mode": {
    "name": "ipython",
    "version": 3
   },
   "file_extension": ".py",
   "mimetype": "text/x-python",
   "name": "python",
   "nbconvert_exporter": "python",
   "pygments_lexer": "ipython3",
   "version": "3.7.1"
  },
  "toc": {
   "nav_menu": {},
   "number_sections": true,
   "sideBar": true,
   "skip_h1_title": false,
   "toc_cell": false,
   "toc_position": {},
   "toc_section_display": "block",
   "toc_window_display": false
  }
 },
 "nbformat": 4,
 "nbformat_minor": 2
}
