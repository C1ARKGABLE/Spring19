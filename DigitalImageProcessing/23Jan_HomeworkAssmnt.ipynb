{
 "cells": [
  {
   "cell_type": "markdown",
   "metadata": {},
   "source": [
    "# This is the homework. Submit as html"
   ]
  },
  {
   "cell_type": "markdown",
   "metadata": {},
   "source": [
    "1. Write a Python program to print \"your name with your course name\" \n",
    "For example – “David John – ITCS-3134”"
   ]
  },
  {
   "cell_type": "code",
   "execution_count": 1,
   "metadata": {},
   "outputs": [
    {
     "name": "stdout",
     "output_type": "stream",
     "text": [
      "Enter your name: Gabe\n",
      "Enter your course name: DIP\n",
      "Gabe – DIP\n"
     ]
    }
   ],
   "source": [
    "person = input('Enter your name: ')\n",
    "course = input('Enter your course name: ')\n",
    "\n",
    "print(person + \" – \" + course)"
   ]
  },
  {
   "cell_type": "markdown",
   "metadata": {},
   "source": [
    "Write a Python program to print even numbers from 0 to 10 using for loop."
   ]
  },
  {
   "cell_type": "code",
   "execution_count": 2,
   "metadata": {},
   "outputs": [
    {
     "name": "stdout",
     "output_type": "stream",
     "text": [
      "Zero is neither odd nor even\n",
      "2\n",
      "4\n",
      "6\n",
      "8\n",
      "10\n"
     ]
    }
   ],
   "source": [
    "for i in list(range(0,12,2)):\n",
    "    if i == 0:\n",
    "        print(\"Zero is neither odd nor even\")\n",
    "    else: \n",
    "        print(i)"
   ]
  },
  {
   "cell_type": "markdown",
   "metadata": {},
   "source": [
    "Write a Python program to add two numbers provided by the user."
   ]
  },
  {
   "cell_type": "code",
   "execution_count": 3,
   "metadata": {},
   "outputs": [
    {
     "name": "stdout",
     "output_type": "stream",
     "text": [
      "Entry for A: 10\n",
      "Entry for B: 20\n",
      "The sum is 30.0\n"
     ]
    }
   ],
   "source": [
    "a = float(input('Entry for A: '))\n",
    "b = float(input('Entry for B: '))\n",
    "\n",
    "print(\"The sum is {0}\".format(a+b))\n",
    "\n",
    "\n"
   ]
  },
  {
   "cell_type": "markdown",
   "metadata": {},
   "source": [
    "Write a Python program to reverse the order of the items in the list or array.\n",
    "Sample String – 7 6 9 0 2\n",
    "Expected Result – 2 0 9 6 7"
   ]
  },
  {
   "cell_type": "code",
   "execution_count": 4,
   "metadata": {},
   "outputs": [
    {
     "name": "stdout",
     "output_type": "stream",
     "text": [
      "List of space seperated chars:10 15 20 aName bob Jeff 19\n",
      "Given array: ['10', '15', '20', 'aName', 'bob', 'Jeff', '19']\n",
      "Expected Result: ['19', 'Jeff', 'bob', 'aName', '20', '15', '10']\n"
     ]
    }
   ],
   "source": [
    "arr = input('List of space seperated chars:').split(' ')\n",
    "print(\"Given array: {0}\".format(arr))\n",
    "arr.reverse()\n",
    "print(\"Expected Result: {0}\".format(arr))"
   ]
  },
  {
   "cell_type": "markdown",
   "metadata": {},
   "source": [
    "Write a Python program to get a string made of the first 2 and the last 2 chars from a given a string.\n",
    "Sample String: 'python'\n",
    "Expected Result: 'pyon'"
   ]
  },
  {
   "cell_type": "code",
   "execution_count": 5,
   "metadata": {},
   "outputs": [
    {
     "name": "stdout",
     "output_type": "stream",
     "text": [
      "Give me a string to motify: thisisastring\n",
      "Result: thng\n"
     ]
    }
   ],
   "source": [
    "string = input('Give me a string to motify: ')\n",
    "print(\"Result: {0}{1}\".format(string[:2],string[-2:]))"
   ]
  },
  {
   "cell_type": "markdown",
   "metadata": {},
   "source": [
    "Write a program which will find all such numbers which are divisible by 5 but are not a multiple of 7 between 1000 and 3000 (both included)."
   ]
  },
  {
   "cell_type": "code",
   "execution_count": 6,
   "metadata": {},
   "outputs": [
    {
     "name": "stdout",
     "output_type": "stream",
     "text": [
      "1020\n"
     ]
    }
   ],
   "source": [
    "nums = []\n",
    "for i in list(range(1000,3000)):\n",
    "    if i % 5 == 0 and i % 7 != 0:\n",
    "        nums.append(i)\n",
    "        #print(i)\n",
    "print(nums[3])"
   ]
  },
  {
   "cell_type": "markdown",
   "metadata": {},
   "source": [
    "Find the roots of a quadratic equation(ar^2+br+c). Where a, b, c is to be given at     runtime."
   ]
  },
  {
   "cell_type": "code",
   "execution_count": 7,
   "metadata": {},
   "outputs": [
    {
     "name": "stdout",
     "output_type": "stream",
     "text": [
      "Input for a: 1\n",
      "Input for b: 10\n",
      "Input for c: 1\n",
      "The roots are: -0.10102051443364424 and -9.898979485566356\n"
     ]
    }
   ],
   "source": [
    "from numpy import sqrt\n",
    "\n",
    "for i in ['a','b','c']:\n",
    "    exec(\"{0} = float(input('Input for {0}: '))\".format(i))\n",
    "x = (-b + sqrt(b**2 - 4*a*c))/(2*a)\n",
    "y = (-b - sqrt(b**2 - 4*a*c))/(2*a)\n",
    "print(\"The roots are: {0} and {1}\".format(x,y))"
   ]
  },
  {
   "cell_type": "markdown",
   "metadata": {},
   "source": [
    "Write a program for printing below pattern  \n",
    "\\*  \n",
    "\\* \\*  \n",
    "\\* \\* \\*  \n",
    "\\* \\* \\* \\*  \n",
    "\\* \\* \\* \\* \\*"
   ]
  },
  {
   "cell_type": "code",
   "execution_count": 8,
   "metadata": {},
   "outputs": [
    {
     "name": "stdout",
     "output_type": "stream",
     "text": [
      "\n",
      "* \n",
      "* * \n",
      "* * * \n",
      "* * * * \n",
      "* * * * * \n"
     ]
    }
   ],
   "source": [
    "string = \"* \"\n",
    "for i in range(0,6):\n",
    "    print(string*i)"
   ]
  },
  {
   "cell_type": "markdown",
   "metadata": {},
   "source": [
    "Write a Python program to make a simple calculator(Add, Subtract, Multiple, Divide) or you can make it more "
   ]
  },
  {
   "cell_type": "code",
   "execution_count": 9,
   "metadata": {},
   "outputs": [
    {
     "name": "stdout",
     "output_type": "stream",
     "text": [
      "Type the symbol of the function you'd like to use: \n",
      " Example: *,/,+,- : +\n",
      "Input for a: 10\n",
      "Input for b: 15\n",
      "Ans: 25.0\n"
     ]
    }
   ],
   "source": [
    "func = input(\"Type the symbol of the function you'd like to use: \\n Example: *,/,+,- : \")\n",
    "for i in ['a','b']:\n",
    "    exec(\"{0} = float(input('Input for {0}: '))\".format(i))\n",
    "\n",
    "if \"*\" in func:\n",
    "    ans = a * b\n",
    "elif \"/\" in func:\n",
    "    if b == 0:\n",
    "        print(\"Can't divide by zero bud\")\n",
    "        ans = \"Error\"\n",
    "    else:\n",
    "        ans = a / b\n",
    "elif \"+\" in func:\n",
    "    ans = a + b\n",
    "elif \"-\" in func:\n",
    "    ans = a - b\n",
    "else:\n",
    "    print(\"This calculator only supports *,/,+,-\")\n",
    "    ans = \"Error\"\n",
    "print(\"Ans: {0}\".format(ans))"
   ]
  },
  {
   "cell_type": "markdown",
   "metadata": {},
   "source": [
    "Bonus round, program [FizzBuzz](https://en.wikipedia.org/wiki/Fizz_buzz):  \n",
    "[Github Link](https://github.com/C1ARKGABLE/FizzBuzz)"
   ]
  },
  {
   "cell_type": "code",
   "execution_count": null,
   "metadata": {},
   "outputs": [],
   "source": []
  }
 ],
 "metadata": {
  "kernelspec": {
   "display_name": "Python 3",
   "language": "python",
   "name": "python3"
  },
  "language_info": {
   "codemirror_mode": {
    "name": "ipython",
    "version": 3
   },
   "file_extension": ".py",
   "mimetype": "text/x-python",
   "name": "python",
   "nbconvert_exporter": "python",
   "pygments_lexer": "ipython3",
   "version": "3.7.2"
  },
  "toc": {
   "nav_menu": {},
   "number_sections": true,
   "sideBar": true,
   "skip_h1_title": false,
   "toc_cell": false,
   "toc_position": {},
   "toc_section_display": "block",
   "toc_window_display": false
  }
 },
 "nbformat": 4,
 "nbformat_minor": 2
}
